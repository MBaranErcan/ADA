{
  "cells": [
    {
      "cell_type": "markdown",
      "metadata": {
        "id": "fb3AtndSJ5vF"
      },
      "source": [
        "[![Open in Colab](https://colab.research.google.com/assets/colab-badge.svg)](https://colab.research.google.com/github/y-akbal/Tedu_Computational_Statistics/blob/main/6/W6ALE.ipynb)\n"
      ]
    },
    {
      "cell_type": "code",
      "execution_count": 11,
      "metadata": {
        "id": "mEApmbTYKNBh"
      },
      "outputs": [],
      "source": [
        "import matplotlib.pyplot as plt\n",
        "import numpy as np\n",
        "import scipy\n",
        "from scipy import stats\n",
        "import pickle\n",
        "from typing import Callable"
      ]
    },
    {
      "attachments": {},
      "cell_type": "markdown",
      "metadata": {
        "id": "buCSNqnDYqDM"
      },
      "source": [
        "# 1) Consider $\\int_0^{0.5} xe^{-x} dx$.\n",
        "# Compute a Monte Carlo estimate $\\hat{\\theta}$ by sampling from $U(0,0.5)$.\n",
        "# Find another Monte Carlo estimate $\\theta^{\\star}$ by sampling from exponential distribution. Which of the variances is smaller? "
      ]
    },
    {
      "cell_type": "code",
      "execution_count": 12,
      "metadata": {
        "id": "PmntRApcYpa9"
      },
      "outputs": [],
      "source": [
        "### Graded Cell A1\n",
        "### implement f(x) = xe^{-x}\n",
        "f = lambda x : x*np.exp(-x) ## Your code here"
      ]
    },
    {
      "cell_type": "code",
      "execution_count": 13,
      "metadata": {
        "id": "w3QTXXXdU9Yi"
      },
      "outputs": [
        {
          "name": "stdout",
          "output_type": "stream",
          "text": [
            "You are doin' good buddy go ahed\n"
          ]
        }
      ],
      "source": [
        "### Let's give a try:\n",
        "assert f(0) == 0 and np.isclose(np.exp(-1), f(1)) and np.isclose(-np.exp(1), f(-1)), \"Check your implementation mate\"\n",
        "print(\"You are doin' good buddy go ahed\")\n",
        "L = True"
      ]
    },
    {
      "cell_type": "code",
      "execution_count": 14,
      "metadata": {
        "id": "S0L9wT6KVce-"
      },
      "outputs": [],
      "source": [
        "### Graded Cell A2\n",
        "### Now let's do Monte Carlo Integration with arguments n_sample (set it default 1000) and f:\n",
        "### the function should return approximate value of integral and variance of the sample in a tuple (mind the order).\n",
        "def monte_carlo(f: Callable, n_sample = 1000, seed = 10)-> tuple:\n",
        "  np.random.seed(seed) ### this is for reproducability, do not delete it!!!\n",
        "  sample_from_uniforrm = np.random.uniform(low=0, high=0.5, size= n_sample)\n",
        "  f_sample = f(sample_from_uniforrm)\n",
        "\n",
        "  variance = np.var(f_sample, ddof=1)\n",
        "  \n",
        "  return ((0.5)*np.mean(f_sample), variance) ## value and variance"
      ]
    },
    {
      "cell_type": "code",
      "execution_count": 15,
      "metadata": {},
      "outputs": [
        {
          "data": {
            "text/plain": [
              "(0.08883196727346893, 0.007891906171852451)"
            ]
          },
          "execution_count": 15,
          "metadata": {},
          "output_type": "execute_result"
        }
      ],
      "source": [
        "monte_carlo(f)"
      ]
    },
    {
      "cell_type": "code",
      "execution_count": 16,
      "metadata": {
        "id": "iRbBxf09XCuD"
      },
      "outputs": [
        {
          "name": "stdout",
          "output_type": "stream",
          "text": [
            "You are doin' good buddy go ahead!!!\n"
          ]
        }
      ],
      "source": [
        "### Let's give a try:\n",
        "test = lambda x: x\n",
        "assert callable(monte_carlo), \"No way check your implementation 0\"\n",
        "assert np.isclose(monte_carlo(test)[0], 0.125, atol = 0.01), \" Check your implementation, this dude should be callable!!!\"\n",
        "assert np.isclose(monte_carlo(f)[0], 0.09, atol = 0.01),  \" Check your implementation (in particular mean)\"\n",
        "assert np.isclose(monte_carlo(f)[1], 0.007, atol = 0.1), \"Check your implementation (in particular variance)\"\n",
        "print(\"You are doin' good buddy go ahead!!!\")\n",
        "L_ = True"
      ]
    },
    {
      "cell_type": "markdown",
      "metadata": {
        "id": "KJTfSnmmYbcx"
      },
      "source": [
        "## If you have come this far you are done with the first part!!! Now lets go to the second part."
      ]
    },
    {
      "cell_type": "code",
      "execution_count": 17,
      "metadata": {
        "id": "ppVU8dLpYaij"
      },
      "outputs": [],
      "source": [
        "### Directly implement the integral by means of sampling from exponential distribution\n",
        "### Graded Cell A26\n",
        "### the function should return approximate value of integral and variance of the sample in a tuple (mind the order).\n",
        "def integration_expo(n_sample = 1000, seed = 10)-> tuple:\n",
        "  np.random.seed(10) ### this is for reproducability, do not delete it!!!\n",
        "  sample_from_exponential = np.random.exponential(n_sample)\n",
        "  f_sample = f(sample_from_exponential)\n",
        "  mean = np.mean(f_sample)\n",
        "  var = np.var(f_sample)\n",
        "\n",
        "  return (mean, var) ### value, variance"
      ]
    },
    {
      "cell_type": "code",
      "execution_count": 18,
      "metadata": {
        "id": "5QKv0Zj0emUj"
      },
      "outputs": [
        {
          "name": "stdout",
          "output_type": "stream",
          "text": [
            "You are doin' good buddy go ahead!!!\n"
          ]
        }
      ],
      "source": [
        "### Let's give it a try:\n",
        "assert callable(integration_expo), \"No way check your implementation 0\"\n",
        "assert np.isclose(integration_expo()[0], 0.09, atol = 0.1), \" Check your implementation (in particular mean)\"\n",
        "assert np.isclose(integration_expo()[1], 0.02, atol = 0.1), \"Check your implementation(in particular variance)\"\n",
        "print(\"You are doin' good buddy go ahead!!!\")\n",
        "L__ = True"
      ]
    },
    {
      "cell_type": "code",
      "execution_count": 19,
      "metadata": {
        "id": "vhtjBXAzgV_w"
      },
      "outputs": [
        {
          "name": "stdout",
          "output_type": "stream",
          "text": [
            "Yeaaah you got it right buddy\n"
          ]
        }
      ],
      "source": [
        "### Graded Cell A15:\n",
        "### Run this cell and get your freedom.\n",
        "def set_answer():\n",
        "  global L___\n",
        "  while True:\n",
        "    res = input(\"Which sampling method has lesser variance? (First or Second):\")\n",
        "    if res == \"First\":\n",
        "      L___ = True\n",
        "      print(\"Yeaaah you got it right buddy\")\n",
        "      break\n",
        "    elif res == \"Second\":\n",
        "      L___ = False\n",
        "      break\n",
        "    else:\n",
        "      print(\"Either write First or Second\")\n",
        "set_answer()"
      ]
    },
    {
      "cell_type": "code",
      "execution_count": 20,
      "metadata": {
        "id": "kI6npyIWfoCi"
      },
      "outputs": [
        {
          "name": "stdout",
          "output_type": "stream",
          "text": [
            "Congrats comrade!!! You passed this assignment\n"
          ]
        }
      ],
      "source": [
        "def final_check():\n",
        "  x = int(L+L_+L__+ L___)\n",
        "  if x == 4:\n",
        "    print(\"Congrats comrade!!! You passed this assignment\")\n",
        "  else:\n",
        "    print(\"Comrade do not stop now!!! check your implementations\")\n",
        "  return \n",
        "final_check()  "
      ]
    }
  ],
  "metadata": {
    "colab": {
      "provenance": []
    },
    "kernelspec": {
      "display_name": "Python 3",
      "name": "python3"
    },
    "language_info": {
      "codemirror_mode": {
        "name": "ipython",
        "version": 3
      },
      "file_extension": ".py",
      "mimetype": "text/x-python",
      "name": "python",
      "nbconvert_exporter": "python",
      "pygments_lexer": "ipython3",
      "version": "3.10.7"
    }
  },
  "nbformat": 4,
  "nbformat_minor": 0
}
