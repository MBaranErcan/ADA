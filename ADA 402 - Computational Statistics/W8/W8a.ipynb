{
  "cells": [
    {
      "cell_type": "markdown",
      "id": "e94be759",
      "metadata": {
        "id": "e94be759"
      },
      "source": [
        "[![Open in Colab](https://colab.research.google.com/assets/colab-badge.svg)](https://colab.research.google.com/github/y-akbal/Tedu_Computational_Statistics/blob/main/8/W8a.ipynb)"
      ]
    },
    {
      "cell_type": "code",
      "execution_count": 3,
      "id": "e0b13304",
      "metadata": {
        "id": "e0b13304"
      },
      "outputs": [],
      "source": [
        "import matplotlib.pyplot as plt\n",
        "import numpy as np\n",
        "import scipy\n",
        "from scipy import stats"
      ]
    },
    {
      "cell_type": "markdown",
      "id": "f43b56f1",
      "metadata": {
        "id": "f43b56f1"
      },
      "source": [
        "# MSE estimation of Trimmed Mean"
      ]
    },
    {
      "cell_type": "code",
      "execution_count": 4,
      "id": "901a77d3",
      "metadata": {
        "id": "901a77d3"
      },
      "outputs": [],
      "source": [
        "def trimmed_mean(array:np.ndarray, trim = 1)->tuple:\n",
        "    array.sort()\n",
        "    trimmed_array = array[trim:-trim]\n",
        "    return trimmed_array.mean(), trimmed_array.std()"
      ]
    },
    {
      "cell_type": "code",
      "execution_count": 5,
      "id": "9e1c2590",
      "metadata": {
        "id": "9e1c2590"
      },
      "outputs": [],
      "source": [
        "### How to approximate MSE error of trimmed mean?\n",
        "def mse_of_trimmed_mean(n_samples):\n",
        "    victims = np.array([trimmed_mean(np.random.randn(1000), 3)[0] for _ in range(n_samples)])\n",
        "    return np.mean(victims**2)"
      ]
    },
    {
      "cell_type": "code",
      "execution_count": 19,
      "id": "b72e069c",
      "metadata": {
        "id": "b72e069c",
        "outputId": "d90d7999-4c5f-4ad9-a654-f2c218d5df4b"
      },
      "outputs": [
        {
          "data": {
            "text/plain": [
              "0.001001314757501373"
            ]
          },
          "execution_count": 19,
          "metadata": {},
          "output_type": "execute_result"
        }
      ],
      "source": [
        "mse_of_trimmed_mean(100000)"
      ]
    },
    {
      "cell_type": "code",
      "execution_count": 18,
      "id": "7ed4b052",
      "metadata": {
        "id": "7ed4b052"
      },
      "outputs": [
        {
          "data": {
            "text/plain": [
              "(-0.05399548303747132, 0.8189116865557174)"
            ]
          },
          "execution_count": 18,
          "metadata": {},
          "output_type": "execute_result"
        }
      ],
      "source": [
        "x = np.random.randn(100)\n",
        "\n",
        "trimmed_mean(x)"
      ]
    },
    {
      "cell_type": "code",
      "execution_count": 8,
      "id": "8785dc36",
      "metadata": {
        "id": "8785dc36",
        "outputId": "04e00236-3abb-42c9-8f05-820b6c14c552"
      },
      "outputs": [
        {
          "data": {
            "text/plain": [
              "(-1.959963984540054, 1.959963984540054)"
            ]
          },
          "execution_count": 8,
          "metadata": {},
          "output_type": "execute_result"
        }
      ],
      "source": [
        "## Remember how to find confidence interval, this is important!!!!\n",
        "stats.norm.interval(0.95, 0, 1)  ### remember confidence interval...."
      ]
    },
    {
      "cell_type": "markdown",
      "id": "1936ff93",
      "metadata": {
        "id": "1936ff93"
      },
      "source": [
        "# Confidence Interval Check"
      ]
    },
    {
      "cell_type": "code",
      "execution_count": 9,
      "id": "82421ba7",
      "metadata": {
        "id": "82421ba7"
      },
      "outputs": [],
      "source": [
        "def test(n_samples = 10000, conf = 0.95, sample_size = 10000):\n",
        "  L = 0\n",
        "  for _ in range(n_samples):\n",
        "    sample = np.random.randn(sample_size)\n",
        "    mean = sample.mean()\n",
        "    std = sample.std(ddof = 1)\n",
        "    INT = stats.norm.interval(conf, mean, std/sample_size**0.5)  ### we had a mistake last week here!!!!\n",
        "    if not (INT[0] < 0 and INT[1] > 0):\n",
        "      L += 1\n",
        "  return (n_samples - L)/n_samples"
      ]
    },
    {
      "cell_type": "code",
      "execution_count": 10,
      "id": "7a67deba",
      "metadata": {
        "id": "7a67deba",
        "outputId": "962fe9ff-3d1c-41d0-b531-522b3fc7d64b"
      },
      "outputs": [
        {
          "data": {
            "text/plain": [
              "0.9888"
            ]
          },
          "execution_count": 10,
          "metadata": {},
          "output_type": "execute_result"
        }
      ],
      "source": [
        "test(conf = 0.99, n_samples = 10000, sample_size = 100)"
      ]
    },
    {
      "cell_type": "code",
      "execution_count": 21,
      "id": "d3f54bb6",
      "metadata": {},
      "outputs": [],
      "source": [
        "def confidence_interval_for_variance(sample, conf = 0.95) -> tuple:\n",
        "\n",
        "    n = len(sample)\n",
        "    s2 = np.var(sample, ddof= 1)\n",
        "    rv = stats.chi2(n-1)\n",
        "    conf1 = (1-conf) / 2\n",
        "\n",
        "    return (n-1)*(s2)/rv.ppf(1 - conf1), (n-1)*(s2)/rv.ppf(conf1)\n",
        "\n",
        "    \n",
        "    "
      ]
    },
    {
      "cell_type": "code",
      "execution_count": 24,
      "id": "ba257569",
      "metadata": {},
      "outputs": [
        {
          "data": {
            "text/plain": [
              "(0.7493508874683911, 0.8897561403416375)"
            ]
          },
          "execution_count": 24,
          "metadata": {},
          "output_type": "execute_result"
        }
      ],
      "source": [
        "confidence_interval_for_variance(np.random.randn(125), 0.5)"
      ]
    },
    {
      "cell_type": "markdown",
      "id": "b69218f4",
      "metadata": {
        "id": "b69218f4"
      },
      "source": [
        "# Estimating a Confidence Level\n",
        "Assume that you sample from a population with unknown mean. Someone comes in claims that the true population mean is 13.8, and this dude appears to be pretty confident in his claim. How do you confirm this?\n",
        "Assume that you are sampling from $\\chi^2(14)$ distribution.\n"
      ]
    },
    {
      "cell_type": "code",
      "execution_count": 11,
      "id": "e18754fd",
      "metadata": {
        "id": "e18754fd"
      },
      "outputs": [],
      "source": [
        "rv = stats.chi2(14)"
      ]
    },
    {
      "cell_type": "code",
      "execution_count": 12,
      "id": "41448db5",
      "metadata": {
        "id": "41448db5"
      },
      "outputs": [],
      "source": [
        "def empirical_confidence_level(random_variable, claimed_mean = 13.8, n_sample = 10000, sample_size = 100):\n",
        "    L = 0\n",
        "    for i in range(n_sample):\n",
        "        sample = random_variable.rvs(sample_size)\n",
        "        mean = sample.mean()\n",
        "        std = sample.std(ddof = 1)\n",
        "        INT = stats.norm.interval(0.95, mean, std/sample_size**0.5)\n",
        "        if INT[0] < claimed_mean and claimed_mean < INT[1]:\n",
        "          L += 1   \n",
        "    return L/n_sample"
      ]
    },
    {
      "cell_type": "code",
      "execution_count": 13,
      "id": "071f97f2",
      "metadata": {
        "id": "071f97f2",
        "outputId": "dbbbd824-9f28-48e5-fc30-8d68cade1a87"
      },
      "outputs": [
        {
          "data": {
            "text/plain": [
              "0.9397"
            ]
          },
          "execution_count": 13,
          "metadata": {},
          "output_type": "execute_result"
        }
      ],
      "source": [
        "empirical_confidence_level(rv)"
      ]
    },
    {
      "cell_type": "markdown",
      "id": "cd903de2",
      "metadata": {
        "id": "cd903de2"
      },
      "source": [
        "# Confidence Interval for Variance"
      ]
    },
    {
      "cell_type": "code",
      "execution_count": 14,
      "id": "3e51fc34",
      "metadata": {
        "id": "3e51fc34"
      },
      "outputs": [],
      "source": [
        "### This is your job!!!! "
      ]
    },
    {
      "cell_type": "markdown",
      "id": "5b6e7e78",
      "metadata": {
        "id": "5b6e7e78"
      },
      "source": [
        "## How do we perform hypothesis testing in Python?\n",
        "See https://docs.scipy.org/doc/scipy/reference/stats.html"
      ]
    },
    {
      "cell_type": "code",
      "execution_count": 15,
      "id": "24135a6d",
      "metadata": {
        "id": "24135a6d",
        "outputId": "eb7c810d-d690-4453-82e4-2c8b554b14c4"
      },
      "outputs": [
        {
          "data": {
            "text/plain": [
              "TtestResult(statistic=-0.1392728809004736, pvalue=0.554649906458925, df=19)"
            ]
          },
          "execution_count": 15,
          "metadata": {},
          "output_type": "execute_result"
        }
      ],
      "source": [
        "## scipy.stats.ttest_1samp for population mean\n",
        "stats.ttest_1samp(np.random.randn(20)+500, 500, alternative= \"greater\") ### H_0 is not rejected!!!!"
      ]
    },
    {
      "cell_type": "code",
      "execution_count": 16,
      "id": "24419827",
      "metadata": {
        "id": "24419827"
      },
      "outputs": [],
      "source": [
        "### Do some examples here!!! with hypothesis tests!!! Such as normality vs vs"
      ]
    },
    {
      "cell_type": "markdown",
      "id": "beebe52f",
      "metadata": {
        "id": "beebe52f"
      },
      "source": [
        "# Empirical Type I Error Rate"
      ]
    },
    {
      "cell_type": "code",
      "execution_count": 17,
      "id": "f602ef9f",
      "metadata": {
        "id": "f602ef9f",
        "outputId": "04c1c994-e76f-4e33-b178-ba04352fd084"
      },
      "outputs": [
        {
          "ename": "KeyboardInterrupt",
          "evalue": "",
          "output_type": "error",
          "traceback": [
            "\u001b[1;31m---------------------------------------------------------------------------\u001b[0m",
            "\u001b[1;31mKeyboardInterrupt\u001b[0m                         Traceback (most recent call last)",
            "Cell \u001b[1;32mIn[17], line 8\u001b[0m\n\u001b[0;32m      6\u001b[0m     prop \u001b[39m=\u001b[39m L\u001b[39m/\u001b[39m\u001b[39m10000\u001b[39m\n\u001b[0;32m      7\u001b[0m     \u001b[39mreturn\u001b[39;00m prop, (prop\u001b[39m*\u001b[39m(\u001b[39m1\u001b[39m\u001b[39m-\u001b[39mprop)\u001b[39m/\u001b[39m\u001b[39m10000\u001b[39m)\u001b[39m*\u001b[39m\u001b[39m*\u001b[39m\u001b[39m0.5\u001b[39m\n\u001b[1;32m----> 8\u001b[0m empiricalI()\n",
            "Cell \u001b[1;32mIn[17], line 4\u001b[0m, in \u001b[0;36mempiricalI\u001b[1;34m()\u001b[0m\n\u001b[0;32m      2\u001b[0m L \u001b[39m=\u001b[39m \u001b[39m0\u001b[39m\n\u001b[0;32m      3\u001b[0m \u001b[39mfor\u001b[39;00m i \u001b[39min\u001b[39;00m \u001b[39mrange\u001b[39m(\u001b[39m10000\u001b[39m):\n\u001b[1;32m----> 4\u001b[0m     \u001b[39mif\u001b[39;00m stats\u001b[39m.\u001b[39mttest_1samp(\u001b[39m10\u001b[39m\u001b[39m*\u001b[39mnp\u001b[39m.\u001b[39;49mrandom\u001b[39m.\u001b[39;49mrandn(\u001b[39m20\u001b[39;49m)\u001b[39m+\u001b[39m\u001b[39m500\u001b[39m, \u001b[39m500\u001b[39m, alternative\u001b[39m=\u001b[39m \u001b[39m\"\u001b[39m\u001b[39mgreater\u001b[39m\u001b[39m\"\u001b[39m)\u001b[39m.\u001b[39mpvalue \u001b[39m<\u001b[39m \u001b[39m0.05\u001b[39m:\n\u001b[0;32m      5\u001b[0m         L \u001b[39m+\u001b[39m\u001b[39m=\u001b[39m \u001b[39m1\u001b[39m\n\u001b[0;32m      6\u001b[0m prop \u001b[39m=\u001b[39m L\u001b[39m/\u001b[39m\u001b[39m10000\u001b[39m\n",
            "\u001b[1;31mKeyboardInterrupt\u001b[0m: "
          ]
        }
      ],
      "source": [
        "def empiricalI():\n",
        "    L = 0\n",
        "    for i in range(10000):\n",
        "        if stats.ttest_1samp(10*np.random.randn(20)+500, 500, alternative= \"greater\").pvalue < 0.05:\n",
        "            L += 1\n",
        "    prop = L/10000\n",
        "    return prop, (prop*(1-prop)/10000)**0.5\n",
        "empiricalI()"
      ]
    },
    {
      "cell_type": "markdown",
      "id": "34e0a1a7",
      "metadata": {
        "id": "34e0a1a7"
      },
      "source": [
        "# Empirical Type II Error Rate"
      ]
    },
    {
      "cell_type": "code",
      "execution_count": null,
      "id": "47631abb",
      "metadata": {
        "id": "47631abb",
        "outputId": "b2e04d8b-af60-40cb-c6f3-8dff4e8aeb05"
      },
      "outputs": [
        {
          "data": {
            "text/plain": [
              "(0.0518, 0.00221623013245466)"
            ]
          },
          "execution_count": 186,
          "metadata": {},
          "output_type": "execute_result"
        }
      ],
      "source": [
        "def __empiricalII__(θ, n_sample = 10000):\n",
        "    L = 0\n",
        "    for i in range(n_sample):\n",
        "        if stats.ttest_1samp(100*np.random.randn(20)+500, θ, alternative= \"greater\").pvalue < 0.05:\n",
        "            L += 1\n",
        "    prop = L/n_sample\n",
        "    return prop, (prop*(1-prop)/n_sample)**0.5\n",
        "\n",
        "__empiricalII__(θ = 500)\n",
        "\n"
      ]
    },
    {
      "cell_type": "code",
      "execution_count": null,
      "id": "fc9d6695",
      "metadata": {
        "id": "fc9d6695"
      },
      "outputs": [],
      "source": [
        "X = range(400, 650, 10)\n",
        "Y = [1- __empiricalII__(θ)[0] for θ in X]"
      ]
    },
    {
      "cell_type": "code",
      "execution_count": null,
      "id": "321c92aa",
      "metadata": {
        "id": "321c92aa",
        "outputId": "dadda94a-ce1a-4c48-a3c4-b52540ae25f2"
      },
      "outputs": [
        {
          "data": {
            "text/plain": [
              "[<matplotlib.lines.Line2D at 0x7f590d307e50>]"
            ]
          },
          "execution_count": 196,
          "metadata": {},
          "output_type": "execute_result"
        },
        {
          "data": {
            "image/png": "[encoded data removed]",
            "text/plain": [
              "<Figure size 640x480 with 1 Axes>"
            ]
          },
          "metadata": {},
          "output_type": "display_data"
        }
      ],
      "source": [
        "plt.plot(X, Y)"
      ]
    },
    {
      "cell_type": "code",
      "execution_count": null,
      "id": "b929d13f",
      "metadata": {
        "id": "b929d13f"
      },
      "outputs": [],
      "source": []
    }
  ],
  "metadata": {
    "colab": {
      "provenance": []
    },
    "kernelspec": {
      "display_name": "Python 3 (ipykernel)",
      "language": "python",
      "name": "python3"
    },
    "language_info": {
      "codemirror_mode": {
        "name": "ipython",
        "version": 3
      },
      "file_extension": ".py",
      "mimetype": "text/x-python",
      "name": "python",
      "nbconvert_exporter": "python",
      "pygments_lexer": "ipython3",
      "version": "3.10.7"
    }
  },
  "nbformat": 4,
  "nbformat_minor": 5
}
