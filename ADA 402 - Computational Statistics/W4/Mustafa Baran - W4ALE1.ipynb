{
  "cells": [
    {
      "cell_type": "markdown",
      "metadata": {
        "id": "oDziufKq45hE"
      },
      "source": [
        "[![Open in Colab](https://colab.research.google.com/assets/colab-badge.svg)](https://colab.research.google.com/github/y-akbal/Tedu_Computational_Statistics/blob/main/4/W4ALE1.ipynb)\n"
      ]
    },
    {
      "cell_type": "code",
      "execution_count": 1,
      "metadata": {
        "id": "0N7wzl9R4SgO"
      },
      "outputs": [],
      "source": [
        "import matplotlib.pyplot as plt\n",
        "import numpy as np\n",
        "import scipy\n",
        "from scipy import stats\n",
        "import pickle"
      ]
    },
    {
      "cell_type": "markdown",
      "metadata": {
        "id": "Z6DA98tE48DV"
      },
      "source": [
        "## Standard Normal Random Variate Generation\n",
        "## In the lecture we stated the following fact:\n",
        "If $U, V \\sim U(0,1)$, and if\n",
        "$Z_1 = \\sqrt{-2 \\log U} \\cos(2\\pi V)$ and \n",
        "$Z_2 = \\sqrt{-2 \\log U} \\sin(2\\pi V)$,\n",
        "then \n",
        "$\n",
        "Z_1, Z_2 \\sim N(0,1) \\text{ independent. }\n",
        "$\n",
        "You will now implement this fact.\n",
        "# Below implement function, $Normal(n:int)-> tuple$ with an argument $n$, and returning a tuple of lists where the first list comes from $Z_1$ and the second from $Z_2$. \n",
        "For instance:\n",
        "$Normal(3) = ([1.2, 0.2, 2.3], [0.1, -2.1, 1.1])$."
      ]
    },
    {
      "cell_type": "code",
      "execution_count": 2,
      "metadata": {
        "id": "9EyaN1QQ7Tae"
      },
      "outputs": [],
      "source": [
        "def Normal(n:int)-> tuple:\n",
        "  # Your code here\n",
        "\n",
        "  U = np.random.uniform(size = n)\n",
        "  V = np.random.uniform(size = n)\n",
        "  \n",
        "  Z1 = np.sqrt(-2*(np.log(U))) * np.cos(2*(np.pi)*V)\n",
        "  Z2 = np.sqrt(-2*(np.log(U))) * np.sin(2*(np.pi)*V)\n",
        "  \n",
        "  tuple_ = (Z1, Z2)\n",
        "  \n",
        "  return tuple_"
      ]
    },
    {
      "cell_type": "code",
      "execution_count": 3,
      "metadata": {
        "id": "zksPLqb2INlW"
      },
      "outputs": [
        {
          "data": {
            "text/plain": [
              "(array([0.06163878]), array([0.99818518]))"
            ]
          },
          "execution_count": 3,
          "metadata": {},
          "output_type": "execute_result"
        }
      ],
      "source": [
        "Normal(1)"
      ]
    },
    {
      "cell_type": "markdown",
      "metadata": {
        "id": "esmSWoCn8pNw"
      },
      "source": [
        "# Some unit test (Graded Cell): \n",
        "Below we use two tests:\n",
        "\n",
        "1) [Shapiro test for normality](https://docs.scipy.org/doc/scipy/reference/generated/scipy.stats.shapiro.html#scipy.stats.shapiro),\n",
        "\n",
        "2) [Pearson correlation coefficient test for linear correlation](https://docs.scipy.org/doc/scipy/reference/generated/scipy.stats.pearsonr.html#scipy.stats.pearsonr),\n",
        "In the case you wonder how I design unit tests."
      ]
    },
    {
      "cell_type": "code",
      "execution_count": 4,
      "metadata": {
        "id": "e2FUL_yW7FsD"
      },
      "outputs": [
        {
          "name": "stdout",
          "output_type": "stream",
          "text": [
            "You doing great pal!!!! Jump to the next exercise!\n"
          ]
        }
      ],
      "source": [
        "# Graded Cell A1, Do not change anything below:\n",
        "np.random.seed(1) ### fix seed to produce the same results always\n",
        "N = 1000\n",
        "assert isinstance(Normal(10), tuple), \"Make sure that your function returns a tuple!!!\"\n",
        "z1, z2 = Normal(N)\n",
        "assert len(z1) == N, f\"You gotta come up with exactly {N} samples while yours is {len(z1)}!!!!, Please give attention to shape of the outputs!!!!\"\n",
        "assert scipy.stats.shapiro(z1).pvalue > 0.10 and scipy.stats.shapiro(z2).pvalue > 0.10, \"Your numbers do not seem to normal check your implementation!!!\"\n",
        "assert scipy.stats.pearsonr(z1, z2)[1] > 0.25, \"Your z1 and z2 seem to be pretty correlated, check your implementation!!!\"\n",
        "print(\"You doing great pal!!!! Jump to the next exercise!\")"
      ]
    },
    {
      "cell_type": "markdown",
      "metadata": {
        "id": "gxGysRPpTm9T"
      },
      "source": [
        "## UnGraded Cell A2\n",
        "# Plot the histogram of your sample and sketch its QQ plot to see if your are doing good."
      ]
    },
    {
      "cell_type": "code",
      "execution_count": 5,
      "metadata": {
        "id": "7cq9nGUp5dcd"
      },
      "outputs": [
        {
          "data": {
            "image/png": "[encoded data removed]",
            "text/plain": [
              "<Figure size 640x480 with 1 Axes>"
            ]
          },
          "metadata": {},
          "output_type": "display_data"
        }
      ],
      "source": [
        "###Your code here\n",
        "Z1, Z2 = Normal(1000)\n",
        "sample = Z1\n",
        "\n",
        "plt.hist(sample, bins = 100, density= True)\n",
        "\n",
        "plt.show()"
      ]
    },
    {
      "cell_type": "markdown",
      "metadata": {
        "id": "FAA7t8EF9Zev"
      },
      "source": []
    },
    {
      "attachments": {},
      "cell_type": "markdown",
      "metadata": {
        "id": "P6MdSPKj9dXC"
      },
      "source": [
        "## You will now implement a snippet giving sample from the mixture of the following three random variables\n",
        "\n",
        "\n",
        "1.   $N(-3,1)$ (Normal distribution with $\\mu = -3, \\sigma = 1$)\n",
        "2.   $U(-2,2)$ (Uniform distribution on $(-2,2)$)\n",
        "3.   $N(3,1)$ (Normal distribution with $\\mu = 3, \\sigma = 1$)\n",
        "\n",
        "# with respect to given probability weights w (do not change the order of distributions). Your function should return a sample from the mixture of these random variables. Please mind the arguments of uniform distribution in scipy.stats.uniform functions.\n"
      ]
    },
    {
      "cell_type": "code",
      "execution_count": 6,
      "metadata": {
        "id": "kkGLVxUw9PT3"
      },
      "outputs": [],
      "source": [
        "def f(sample_size :int, w:np.ndarray) -> np.ndarray:\n",
        "  # Your code here\n",
        "  dist_1 = stats.norm(loc=-3, scale=1)\n",
        "  dist_2 = stats.uniform(loc=-2, scale=4)\n",
        "  dist_3 = stats.norm(loc=3, scale=1)\n",
        "\n",
        "  sample1 = dist_1.rvs(size = int(w[0]*sample_size))\n",
        "  sample2 = dist_2.rvs(size = int(w[1]*sample_size))\n",
        "  sample3 = dist_3.rvs(size = int(w[2]*sample_size))\n",
        "    \n",
        "  sample = np.concatenate((sample1, sample2, sample3))\n",
        "  \n",
        "  return sample"
      ]
    },
    {
      "cell_type": "code",
      "execution_count": 7,
      "metadata": {
        "colab": {
          "base_uri": "https://localhost:8080/"
        },
        "id": "jORHFTPN-mzE",
        "outputId": "5c5a3b1a-0c1e-4191-8378-d291cb4086f6"
      },
      "outputs": [
        {
          "name": "stdout",
          "output_type": "stream",
          "text": [
            "Good job pal!!! All tests passed!!! Big Linkedin Congrats to you!!!\n"
          ]
        }
      ],
      "source": [
        "#### Graded Cell A32, Please do not change anything below as this may cause compiler to crash.\n",
        "np.random.seed(10)\n",
        "assert isinstance(f(1000, w = np.array([0.1, 0.2, 0.7])), np.ndarray), \"Your function should return a numpy array!!!\"\n",
        "assert len(f(1000, w = np.array([0.1, 0.2, 0.7]))) == 1000, \"Your function should return an array of length sample_size!!!\"\n",
        "tester = np.mean(f(100000, w = [0.3, 0.4, 0.3]))\n",
        "assert np.isclose(tester, 0, atol = 0.01), \"Check your implementation mate!!!\"\n",
        "tester = np.mean(f(100000, w = [0.2, 0.2, 0.6]))\n",
        "assert np.isclose(tester, 1.19, atol = 0.1), \"Check your implementation mate!!!\"\n",
        "print(\"Good job pal!!! All tests passed!!! Big Linkedin Congrats to you!!!\")"
      ]
    },
    {
      "cell_type": "markdown",
      "metadata": {
        "id": "_waCMQPHA3zr"
      },
      "source": [
        "### UnGraded Cell\n",
        "### Plot a histogram of the mixture with respect to a given weight."
      ]
    },
    {
      "cell_type": "code",
      "execution_count": 8,
      "metadata": {
        "id": "lgDU_6iOBC5x"
      },
      "outputs": [
        {
          "data": {
            "image/png": "[encoded data removed]",
            "text/plain": [
              "<Figure size 640x480 with 1 Axes>"
            ]
          },
          "metadata": {},
          "output_type": "display_data"
        }
      ],
      "source": [
        "sample = f(100000, w = [0.3, 0.4, 0.3])\n",
        "### Your code here\n",
        "\n",
        "plt.hist(sample, bins = 100, density = True)\n",
        "plt.show()"
      ]
    }
  ],
  "metadata": {
    "colab": {
      "provenance": []
    },
    "kernelspec": {
      "display_name": "Python 3",
      "language": "python",
      "name": "python3"
    },
    "language_info": {
      "codemirror_mode": {
        "name": "ipython",
        "version": 3
      },
      "file_extension": ".py",
      "mimetype": "text/x-python",
      "name": "python",
      "nbconvert_exporter": "python",
      "pygments_lexer": "ipython3",
      "version": "3.10.7"
    },
    "vscode": {
      "interpreter": {
        "hash": "36dd39fca75447225f69d63218caf7520cc3e9d7c1bacda72143b6b45318f9a8"
      }
    }
  },
  "nbformat": 4,
  "nbformat_minor": 0
}
