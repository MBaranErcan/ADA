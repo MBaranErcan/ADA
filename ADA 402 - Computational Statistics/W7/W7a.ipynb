{
  "cells": [
    {
      "cell_type": "code",
      "execution_count": null,
      "metadata": {
        "id": "mEApmbTYKNBh"
      },
      "outputs": [],
      "source": [
        "import matplotlib.pyplot as plt\n",
        "import numpy as np\n",
        "import scipy\n",
        "from scipy import stats\n",
        "import pickle"
      ]
    },
    {
      "cell_type": "markdown",
      "metadata": {
        "id": "DZ9ksCqAn-sA"
      },
      "source": [
        "# Basic Monte Carlo estimation"
      ]
    },
    {
      "cell_type": "markdown",
      "metadata": {
        "id": "9aX27UoB0AoW"
      },
      "source": [
        "## Task given an approximate value for $E[|X_1 - X_2|]$"
      ]
    },
    {
      "cell_type": "code",
      "execution_count": null,
      "metadata": {
        "id": "jf7-TeaB0JNu"
      },
      "outputs": [],
      "source": [
        "X = np.random.randn(10000000, 2)"
      ]
    },
    {
      "cell_type": "code",
      "execution_count": null,
      "metadata": {
        "colab": {
          "base_uri": "https://localhost:8080/"
        },
        "id": "4WYUY9JU0OP4",
        "outputId": "edd9e7bd-66e0-40e2-cb99-6ee33747bf6e"
      },
      "outputs": [
        {
          "data": {
            "text/plain": [
              "1.128330156428113"
            ]
          },
          "execution_count": 20,
          "metadata": {},
          "output_type": "execute_result"
        }
      ],
      "source": [
        "np.mean(abs((X[:,0] - X[:, 1])))"
      ]
    },
    {
      "cell_type": "markdown",
      "metadata": {
        "id": "D8z-1e_u1BP0"
      },
      "source": [
        "## We are estimating $ Var(|X_1 - X_2|)$ as well."
      ]
    },
    {
      "cell_type": "code",
      "execution_count": null,
      "metadata": {
        "colab": {
          "base_uri": "https://localhost:8080/"
        },
        "id": "mZmWMaOPn7Nq",
        "outputId": "1b340a0d-a250-4e14-e73c-a5ecee78c2f2"
      },
      "outputs": [
        {
          "data": {
            "text/plain": [
              "0.7266419509308208"
            ]
          },
          "execution_count": 13,
          "metadata": {},
          "output_type": "execute_result"
        }
      ],
      "source": [
        "np.var(abs((X[:,0] - X[:, 1])),ddof = 1) "
      ]
    },
    {
      "cell_type": "code",
      "execution_count": null,
      "metadata": {
        "colab": {
          "base_uri": "https://localhost:8080/"
        },
        "id": "bi2RYVWo0nLo",
        "outputId": "81f850d7-ce8c-48af-b96f-6415074cc065"
      },
      "outputs": [
        {
          "data": {
            "text/plain": [
              "0.7267604552648372"
            ]
          },
          "execution_count": 10,
          "metadata": {},
          "output_type": "execute_result"
        }
      ],
      "source": [
        "2- 4/np.pi"
      ]
    },
    {
      "cell_type": "markdown",
      "metadata": {
        "id": "0MJ5GPR6oAfX"
      },
      "source": [
        "# Estimation of MSE"
      ]
    },
    {
      "cell_type": "code",
      "execution_count": null,
      "metadata": {
        "id": "MYRH_SRroDvJ"
      },
      "outputs": [],
      "source": []
    },
    {
      "cell_type": "markdown",
      "metadata": {
        "id": "rSnWzegq4u_v"
      },
      "source": [
        "## Confidence Interval (What does it mean?)"
      ]
    },
    {
      "cell_type": "code",
      "execution_count": null,
      "metadata": {
        "colab": {
          "base_uri": "https://localhost:8080/"
        },
        "id": "QHl_Sv6J4zTC",
        "outputId": "fd0118e3-22e8-4bd2-d557-3b0dabdd3a4c"
      },
      "outputs": [
        {
          "data": {
            "text/plain": [
              "(277.8963459026162, 282.1036540973838)"
            ]
          },
          "execution_count": 28,
          "metadata": {},
          "output_type": "execute_result"
        }
      ],
      "source": [
        "stats.norm.interval(0.95, 280,12/125**0.5)"
      ]
    },
    {
      "cell_type": "code",
      "execution_count": null,
      "metadata": {
        "id": "SOVAFLWx5ZlG"
      },
      "outputs": [],
      "source": []
    },
    {
      "cell_type": "code",
      "execution_count": null,
      "metadata": {
        "id": "bw9OHECe4uP2"
      },
      "outputs": [],
      "source": [
        "def test(n_samples = 10000, conf = 0.95, sample_size = 100):\n",
        "  L = 0\n",
        "  for _ in range(n_samples):\n",
        "    sample = np.random.randn(sample_size)\n",
        "    mean = sample.mean()\n",
        "    var = sample.var(ddof = 1)\n",
        "    INT = stats.norm.interval(conf, mean, var/sample_size**0.5)\n",
        "    if not (INT[0] < 0 and INT[1] > 0):\n",
        "      L += 1\n",
        "  return (n_samples - L)/n_samples"
      ]
    },
    {
      "cell_type": "code",
      "execution_count": null,
      "metadata": {
        "colab": {
          "base_uri": "https://localhost:8080/"
        },
        "id": "7rfV4WFg6Lsj",
        "outputId": "cd3da77b-a1b4-45a9-c2d5-fd6c6b33e151"
      },
      "outputs": [
        {
          "data": {
            "text/plain": [
              "0.7944"
            ]
          },
          "execution_count": 58,
          "metadata": {},
          "output_type": "execute_result"
        }
      ],
      "source": [
        "test(conf = 0.8, n_samples = 100000, sample_size = 100)"
      ]
    },
    {
      "cell_type": "markdown",
      "metadata": {
        "id": "TL-_3b7doEQB"
      },
      "source": [
        "# Estimating a Confidence Level"
      ]
    },
    {
      "cell_type": "code",
      "execution_count": null,
      "metadata": {
        "id": "owlmbKQ5oG0w"
      },
      "outputs": [],
      "source": []
    },
    {
      "cell_type": "markdown",
      "metadata": {
        "id": "yVYcFqPzoIse"
      },
      "source": [
        "# Monte Carlo Methods for Hypothesis Tests\n",
        "# Empirical Type I Error Rate"
      ]
    },
    {
      "cell_type": "code",
      "execution_count": null,
      "metadata": {
        "id": "uEAqpjROoKpK"
      },
      "outputs": [],
      "source": []
    },
    {
      "cell_type": "markdown",
      "metadata": {
        "id": "q_s7cgvZoLfk"
      },
      "source": [
        "# Empirical Type II Error Rate\n",
        "\n"
      ]
    },
    {
      "cell_type": "code",
      "execution_count": null,
      "metadata": {
        "id": "CNYb9jN5oK5s"
      },
      "outputs": [],
      "source": []
    }
  ],
  "metadata": {
    "colab": {
      "provenance": []
    },
    "kernelspec": {
      "display_name": "Python 3",
      "name": "python3"
    },
    "language_info": {
      "name": "python",
      "version": "3.10.7"
    }
  },
  "nbformat": 4,
  "nbformat_minor": 0
}
